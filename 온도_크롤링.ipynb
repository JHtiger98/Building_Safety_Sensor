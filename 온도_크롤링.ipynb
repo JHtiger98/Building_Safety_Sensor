{
 "cells": [
  {
   "cell_type": "code",
   "execution_count": 1,
   "id": "e16462b5-e5d7-489f-8970-c0cf58e19748",
   "metadata": {
    "execution": {
     "iopub.execute_input": "2023-05-15T02:08:38.968906Z",
     "iopub.status.busy": "2023-05-15T02:08:38.968906Z",
     "iopub.status.idle": "2023-05-15T02:08:38.981909Z",
     "shell.execute_reply": "2023-05-15T02:08:38.981909Z",
     "shell.execute_reply.started": "2023-05-15T02:08:38.968906Z"
    }
   },
   "outputs": [
    {
     "data": {
      "text/plain": [
       "'C:\\\\Users\\\\aibiz\\\\Documents\\\\GitHub\\\\building_security_data\\\\Jihun'"
      ]
     },
     "execution_count": 1,
     "metadata": {},
     "output_type": "execute_result"
    }
   ],
   "source": [
    "import os\n",
    "\n",
    "os.getcwd()"
   ]
  },
  {
   "cell_type": "code",
   "execution_count": 11,
   "id": "a61496d5-5445-4c0f-8059-b65b094c45a9",
   "metadata": {
    "execution": {
     "iopub.execute_input": "2023-05-17T02:12:34.110753Z",
     "iopub.status.busy": "2023-05-17T02:12:34.109753Z",
     "iopub.status.idle": "2023-05-17T02:12:34.112643Z",
     "shell.execute_reply": "2023-05-17T02:12:34.112643Z",
     "shell.execute_reply.started": "2023-05-17T02:12:34.110753Z"
    },
    "tags": []
   },
   "outputs": [],
   "source": [
    "# conda info --env"
   ]
  },
  {
   "cell_type": "code",
   "execution_count": 10,
   "id": "075cbc0d-5ad3-4558-8c45-0df29230d19e",
   "metadata": {
    "execution": {
     "iopub.execute_input": "2023-05-17T02:12:32.740870Z",
     "iopub.status.busy": "2023-05-17T02:12:32.739869Z",
     "iopub.status.idle": "2023-05-17T02:12:32.742870Z",
     "shell.execute_reply": "2023-05-17T02:12:32.742870Z",
     "shell.execute_reply.started": "2023-05-17T02:12:32.739869Z"
    },
    "tags": []
   },
   "outputs": [],
   "source": [
    "# conda env list"
   ]
  },
  {
   "cell_type": "code",
   "execution_count": 1,
   "id": "e92cfd62-b8f4-4fee-87c9-aa52f4513519",
   "metadata": {
    "tags": []
   },
   "outputs": [
    {
     "name": "stderr",
     "output_type": "stream",
     "text": [
      "C:\\Users\\USER\\AppData\\Local\\Temp\\ipykernel_8404\\1803949859.py:11: TqdmWarning: IProgress not found. Please update jupyter and ipywidgets. See https://ipywidgets.readthedocs.io/en/stable/user_install.html\n",
      "  from tqdm.autonotebook import tqdm\n"
     ]
    }
   ],
   "source": [
    "import numpy as np\n",
    "import pandas as pd\n",
    "import time\n",
    "from datetime import datetime, timedelta\n",
    "\n",
    "from selenium import webdriver\n",
    "from selenium.webdriver.common.by import By\n",
    "from selenium.webdriver.support.select import Select\n",
    "from selenium.webdriver.support.ui import Select\n",
    "\n",
    "from tqdm.autonotebook import tqdm\n",
    "\n",
    "import pickle"
   ]
  },
  {
   "cell_type": "code",
   "execution_count": 3,
   "id": "432fa8ef-36a3-485d-b0ec-d0b53f11f116",
   "metadata": {
    "execution": {
     "iopub.execute_input": "2023-05-17T02:09:32.994694Z",
     "iopub.status.busy": "2023-05-17T02:09:32.993694Z",
     "iopub.status.idle": "2023-05-17T02:09:32.999169Z",
     "shell.execute_reply": "2023-05-17T02:09:32.999169Z",
     "shell.execute_reply.started": "2023-05-17T02:09:32.994694Z"
    },
    "tags": []
   },
   "outputs": [
    {
     "data": {
      "text/plain": [
       "'https://www.weather.go.kr/plus/land/current/aws_table_popup.jsp'"
      ]
     },
     "execution_count": 3,
     "metadata": {},
     "output_type": "execute_result"
    }
   ],
   "source": [
    "url = \"https://www.weather.go.kr/plus/land/current/aws_table_popup.jsp\"\n",
    "url"
   ]
  },
  {
   "cell_type": "code",
   "execution_count": 4,
   "id": "e4e02885-b931-4477-aed4-e7067ef8d985",
   "metadata": {
    "execution": {
     "iopub.execute_input": "2023-05-17T02:09:33.399755Z",
     "iopub.status.busy": "2023-05-17T02:09:33.399755Z",
     "iopub.status.idle": "2023-05-17T02:09:35.940495Z",
     "shell.execute_reply": "2023-05-17T02:09:35.940495Z",
     "shell.execute_reply.started": "2023-05-17T02:09:33.399755Z"
    },
    "tags": []
   },
   "outputs": [
    {
     "name": "stderr",
     "output_type": "stream",
     "text": [
      "C:\\Users\\aibiz\\AppData\\Local\\Temp\\ipykernel_12020\\297859235.py:1: DeprecationWarning: executable_path has been deprecated, please pass in a Service object\n",
      "  driver = webdriver.Chrome(\"chromedrive.exe\")\n"
     ]
    }
   ],
   "source": [
    "driver = webdriver.Chrome(\"chromedrive.exe\")\n",
    "driver.get(url)"
   ]
  },
  {
   "cell_type": "markdown",
   "id": "15216cdd-bd8e-4148-837f-a1d5effdee0c",
   "metadata": {},
   "source": [
    "## 관측 간격 설정"
   ]
  },
  {
   "cell_type": "code",
   "execution_count": 5,
   "id": "1131d878-28f0-4dbc-b465-ad30f87e5c44",
   "metadata": {
    "execution": {
     "iopub.execute_input": "2023-05-17T02:09:40.135741Z",
     "iopub.status.busy": "2023-05-17T02:09:40.134741Z",
     "iopub.status.idle": "2023-05-17T02:09:40.223553Z",
     "shell.execute_reply": "2023-05-17T02:09:40.223553Z",
     "shell.execute_reply.started": "2023-05-17T02:09:40.135741Z"
    },
    "tags": []
   },
   "outputs": [],
   "source": [
    "driver.switch_to.frame(driver.find_element(By.ID, \"menu\"))\n",
    "\n",
    "select_scale = Select(driver.find_element(By.NAME, \"db\"))\n",
    "select_60 = select_scale.select_by_index(3)  # 1시간 간격\n",
    "\n",
    "driver.switch_to.default_content()"
   ]
  },
  {
   "cell_type": "markdown",
   "id": "e071cf40-3634-4218-97f4-7abf504878bd",
   "metadata": {},
   "source": [
    "## 기간 설정"
   ]
  },
  {
   "cell_type": "code",
   "execution_count": 6,
   "id": "d2c6547e-582f-435f-b751-0d3d5b1efdb3",
   "metadata": {
    "execution": {
     "iopub.execute_input": "2023-05-17T02:09:41.029384Z",
     "iopub.status.busy": "2023-05-17T02:09:41.028383Z",
     "iopub.status.idle": "2023-05-17T02:09:41.034065Z",
     "shell.execute_reply": "2023-05-17T02:09:41.034065Z",
     "shell.execute_reply.started": "2023-05-17T02:09:41.029384Z"
    },
    "tags": []
   },
   "outputs": [
    {
     "data": {
      "text/plain": [
       "datetime.datetime(2023, 5, 9, 11, 0)"
      ]
     },
     "execution_count": 6,
     "metadata": {},
     "output_type": "execute_result"
    }
   ],
   "source": [
    "start_date = datetime(2022, 11, 25, 11, 0, 0)\n",
    "end_date = datetime(2023, 5, 9, 13, 30, 0)\n",
    "delta = timedelta(hours=60)\n",
    "\n",
    "current_date = start_date\n",
    "date_li = [start_date]\n",
    "while current_date <= end_date - timedelta(hours=10):\n",
    "    # 원하는 로직을 수행\n",
    "    # print(current_date)\n",
    "\n",
    "    # 다음 반복을 위해 현재 날짜를 업데이트\n",
    "    current_date += delta\n",
    "    date_li.append(current_date)\n",
    "\n",
    "date_li[-1]\n",
    "# len(date_li)"
   ]
  },
  {
   "cell_type": "markdown",
   "id": "85ef9965-48fa-4540-bf07-fdb966efb70b",
   "metadata": {},
   "source": [
    "## 날짜 인덱스 수정 함수"
   ]
  },
  {
   "cell_type": "code",
   "execution_count": 7,
   "id": "9c0de89e-c4c7-4964-bb10-de5e296a07e3",
   "metadata": {
    "execution": {
     "iopub.execute_input": "2023-05-17T02:09:46.995756Z",
     "iopub.status.busy": "2023-05-17T02:09:46.995756Z",
     "iopub.status.idle": "2023-05-17T02:09:46.999390Z",
     "shell.execute_reply": "2023-05-17T02:09:46.999331Z",
     "shell.execute_reply.started": "2023-05-17T02:09:46.995756Z"
    },
    "tags": []
   },
   "outputs": [],
   "source": [
    "def modified_date(date):\n",
    "    modified_month = None  # modified_month 변수 초기화\n",
    "    modified_day = None  # modified_day 변수 초기화\n",
    "\n",
    "    start_date = date + timedelta(hours=60)\n",
    "\n",
    "    year = str(start_date.year)\n",
    "    month = start_date.month - 1\n",
    "    day = start_date.day - 1\n",
    "    hour = start_date.hour\n",
    "    hour = str(hour).zfill(2)  # 시간 포맷을 2자리로 맞춤\n",
    "    if hour.startswith(\"0\"):\n",
    "        hour = hour[1:]\n",
    "\n",
    "    return year, month, day, hour"
   ]
  },
  {
   "cell_type": "markdown",
   "id": "d62cee19-9e48-4530-9fd3-18ccffabb85e",
   "metadata": {},
   "source": [
    "## 크롤링 함수"
   ]
  },
  {
   "cell_type": "code",
   "execution_count": 8,
   "id": "2951efad-b9a0-4657-b592-87d294c9b553",
   "metadata": {
    "execution": {
     "iopub.execute_input": "2023-05-17T02:09:47.777206Z",
     "iopub.status.busy": "2023-05-17T02:09:47.777206Z",
     "iopub.status.idle": "2023-05-17T02:09:47.791220Z",
     "shell.execute_reply": "2023-05-17T02:09:47.791220Z",
     "shell.execute_reply.started": "2023-05-17T02:09:47.777206Z"
    },
    "tags": []
   },
   "outputs": [],
   "source": [
    "def crawling(date, region):\n",
    "    year, month, day, hour = modified_date(date)\n",
    "    # 관측  1시간 간격\n",
    "    driver.switch_to.frame(driver.find_element(By.ID, \"menu\"))\n",
    "\n",
    "    select_scale = Select(driver.find_element(By.NAME, \"db\"))\n",
    "    select_60 = select_scale.select_by_index(3)  # 1시간 간격\n",
    "\n",
    "    driver.switch_to.default_content()\n",
    "    driver.find_element(By.ID, \"datecal2\").click()\n",
    "    time.sleep(2)\n",
    "\n",
    "    select_year = Select(driver.find_element(By.CLASS_NAME, \"ui-datepicker-year\"))\n",
    "    select_2022 = select_year.select_by_value(year)\n",
    "\n",
    "    select_month = Select(driver.find_element(By.CLASS_NAME, \"ui-datepicker-month\"))\n",
    "    select_11 = select_month.select_by_index(month)\n",
    "\n",
    "    select_calendar = driver.find_element(By.CLASS_NAME, \"ui-datepicker-calendar\")\n",
    "    select_date = select_calendar.find_elements(By.CLASS_NAME, \"ui-state-default\")\n",
    "    select_25 = select_date[day].click()\n",
    "\n",
    "    select_hour = driver.find_element(By.CLASS_NAME, \"ui_tpicker_hour_slider\")\n",
    "    select_hour = Select(\n",
    "        driver.find_element(\n",
    "            By.CLASS_NAME, \"ui-timepicker-select.ui-state-default.ui-corner-all\"\n",
    "        )\n",
    "    )\n",
    "    select_11 = select_hour.select_by_value(hour)\n",
    "\n",
    "    select_min = driver.find_element(By.CLASS_NAME, \"ui_tpicker_minute_slider\")\n",
    "    select_min = Select(\n",
    "        select_min.find_element(\n",
    "            By.CLASS_NAME, \"ui-timepicker-select.ui-state-default.ui-corner-all\"\n",
    "        )\n",
    "    )\n",
    "    select_00 = select_min.select_by_value(\"0\")\n",
    "    # 완료 버튼\n",
    "    driver.find_element(\n",
    "        By.CLASS_NAME,\n",
    "        \"ui-datepicker-close.ui-state-default.ui-priority-primary.ui-corner-all\",\n",
    "    ).click()\n",
    "    # 선택 버튼\n",
    "    driver.find_element(By.CLASS_NAME, \"btn\").click()\n",
    "\n",
    "    # 지역선택\n",
    "    driver.switch_to.frame(driver.find_element(By.ID, \"disp\"))\n",
    "    driver.switch_to.frame(driver.find_element(By.NAME, \"all\"))\n",
    "    td_elements = driver.find_elements(By.TAG_NAME, \"td\")\n",
    "    region_li = [td.text for td in td_elements]\n",
    "    # 지역을 찾은 경우에\n",
    "    if region in region_li:\n",
    "        for td in td_elements:\n",
    "            if td.text == region:\n",
    "                td.click()\n",
    "                driver.switch_to.default_content()\n",
    "                break\n",
    "    elif region in [\"양주\", \"광진\"]:\n",
    "        if region == \"양주\":\n",
    "            region_big = \"파주\"\n",
    "        elif region == \"광진\":\n",
    "            region_big = \"서울\"\n",
    "        for td in td_elements:\n",
    "            if td.text == region_big:\n",
    "                td.click()\n",
    "                driver.switch_to.default_content()\n",
    "                break\n",
    "    else:\n",
    "        print(\"지역을 못찾았습니다\")\n",
    "        driver.switch_to.default_content()\n",
    "        return\n",
    "\n",
    "    driver.switch_to.frame(driver.find_element(By.ID, \"disp\"))\n",
    "    driver.switch_to.frame(driver.find_element(By.NAME, \"all\"))\n",
    "    driver.switch_to.frame(driver.find_element(By.NAME, \"sub\"))\n",
    "    driver.find_element(By.XPATH, f\"//img[@alt='{region}']\").click()\n",
    "    driver.switch_to.default_content()\n",
    "\n",
    "    # 표 frame으로 전환\n",
    "    driver.switch_to.frame(driver.find_element(By.ID, \"disp\"))\n",
    "    driver.switch_to.frame(driver.find_element(By.NAME, \"body\"))\n",
    "    table = driver.find_element(By.TAG_NAME, \"table\")\n",
    "    rows = table.find_elements(By.TAG_NAME, \"tr\")\n",
    "    header_row = rows[0]\n",
    "    header_cells = header_row.find_elements(By.TAG_NAME, \"td\")\n",
    "    columns = [cell.text for cell in header_cells]\n",
    "    columns = columns[1:18]\n",
    "    data = []\n",
    "\n",
    "    # 셀(cell) 선택 및 데이터 추출\n",
    "    for row in rows[2:]:\n",
    "        cells = row.find_elements(By.TAG_NAME, \"td\")\n",
    "        row_data = []\n",
    "        for i in range(len(columns)):\n",
    "            cell_value = cells[i].text if i < len(cells) else None\n",
    "            row_data.append(cell_value)\n",
    "        data.append(row_data)\n",
    "\n",
    "    # 데이터 프레임으로 변환\n",
    "    df_og = pd.DataFrame(data, columns=columns)\n",
    "    try:\n",
    "        variable_col_name = df_og.iloc[0, 0]\n",
    "        variable_col_name_2 = df_og.iloc[0, 1]\n",
    "        selected_columns = [\n",
    "            \"강수60\",\n",
    "            \"기온\",\n",
    "            f\"{variable_col_name}\",\n",
    "            f\"{variable_col_name_2}\",\n",
    "        ]\n",
    "        df = df_og[selected_columns]\n",
    "        df = df.rename(\n",
    "            columns={\n",
    "                f\"{variable_col_name}\": \"습도\",\n",
    "                f\"{variable_col_name_2}\": \"해면기압\",\n",
    "            }\n",
    "        )\n",
    "        df = df.replace(\" \", np.nan)\n",
    "        df = df.replace(\".\", np.nan)  # '.'을 NaN으로 대체\n",
    "        start_date = date + timedelta(hours=60)\n",
    "        df[\"계측시간\"] = pd.date_range(start=start_date, periods=len(df), freq=\"-1H\")\n",
    "        df = df.sort_values(by=\"계측시간\").set_index([\"계측시간\"])\n",
    "        df = df.dropna()  # NaN이 있는 행 삭제\n",
    "        df = df.astype(float)  # 나머지 열을 부동 소수점으로 변환\n",
    "    except:\n",
    "        df = None\n",
    "        pass\n",
    "    driver.switch_to.default_content()\n",
    "    return df, df_og"
   ]
  },
  {
   "cell_type": "markdown",
   "id": "542d2c1b-73da-42a2-95d8-d1b9d19841e5",
   "metadata": {},
   "source": [
    "## 지역별 온도 크롤링 > 피클 파일 저장"
   ]
  },
  {
   "cell_type": "code",
   "execution_count": 142,
   "id": "7112cc7c-99b8-4d3f-b025-ae7a81912d5b",
   "metadata": {
    "execution": {
     "iopub.execute_input": "2023-05-15T20:21:20.477504Z",
     "iopub.status.busy": "2023-05-15T20:21:20.477504Z",
     "iopub.status.idle": "2023-05-15T20:21:20.479866Z",
     "shell.execute_reply": "2023-05-15T20:21:20.479866Z",
     "shell.execute_reply.started": "2023-05-15T20:21:20.477504Z"
    },
    "tags": []
   },
   "outputs": [],
   "source": [
    "region_li = [\"여수\", \"광진\", \"양주\"]\n",
    "for region in region_li:\n",
    "    merge_df, _ = crawling(date_li[0], region)\n",
    "    for date in tqdm(date_li[1:]):\n",
    "        df, df_og = crawling(date, region)\n",
    "        if df is None:\n",
    "            print(\"전처리 오류, 해당 df_og 확인 필요\")\n",
    "            display(df_og)\n",
    "            break\n",
    "        merge_df = pd.concat([merge_df, df])\n",
    "    merge_df = merge_df.drop_duplicates()\n",
    "    merge_df.name = region\n",
    "\n",
    "    merge_df.to_pickle(f\"../크롤링 온도 자료/{merge_df.name}.pkl\")"
   ]
  },
  {
   "cell_type": "markdown",
   "id": "74aaf768-44bf-4345-bf4d-1b96d6590457",
   "metadata": {},
   "source": [
    "## 온도 시각화"
   ]
  },
  {
   "cell_type": "code",
   "execution_count": 137,
   "id": "0907cd8a-8ac1-474c-bd6a-073dfb4c9bf6",
   "metadata": {
    "execution": {
     "iopub.execute_input": "2023-05-15T20:03:30.706094Z",
     "iopub.status.busy": "2023-05-15T20:03:30.706094Z",
     "iopub.status.idle": "2023-05-15T20:03:30.838299Z",
     "shell.execute_reply": "2023-05-15T20:03:30.838299Z",
     "shell.execute_reply.started": "2023-05-15T20:03:30.706094Z"
    },
    "tags": []
   },
   "outputs": [
    {
     "data": {
      "image/png": "[encoded data removed]",
      "text/plain": [
       "<Figure size 640x480 with 1 Axes>"
      ]
     },
     "metadata": {},
     "output_type": "display_data"
    }
   ],
   "source": [
    "import matplotlib.pyplot as plt\n",
    "\n",
    "plt.rc(\"font\", family=\"Malgun Gothic\")\n",
    "plt.rcParams[\"axes.unicode_minus\"] = False\n",
    "\n",
    "# 플롯 생성\n",
    "plt.plot(merge_df.index, merge_df[\"기온\"])\n",
    "\n",
    "# 축과 타이틀 설정\n",
    "plt.xlabel(\"날짜\")\n",
    "plt.ylabel(\"기온\")\n",
    "plt.title(\"기온 추이\")\n",
    "\n",
    "# 플롯 보여주기\n",
    "plt.show()"
   ]
  }
 ],
 "metadata": {
  "kernelspec": {
   "display_name": "Python 3 (ipykernel)",
   "language": "python",
   "name": "python3"
  },
  "language_info": {
   "codemirror_mode": {
    "name": "ipython",
    "version": 3
   },
   "file_extension": ".py",
   "mimetype": "text/x-python",
   "name": "python",
   "nbconvert_exporter": "python",
   "pygments_lexer": "ipython3",
   "version": "3.11.3"
  }
 },
 "nbformat": 4,
 "nbformat_minor": 5
}
